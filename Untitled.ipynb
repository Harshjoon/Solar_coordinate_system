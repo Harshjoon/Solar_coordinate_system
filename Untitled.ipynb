{
 "cells": [
  {
   "cell_type": "code",
   "execution_count": 2,
   "id": "e4b3afc8",
   "metadata": {},
   "outputs": [],
   "source": [
    "from astropy import units as u\n",
    "from astropy.coordinates import SkyCoord, AltAz\n",
    "from astropy.time import Time\n",
    "from astropy.coordinates import EarthLocation"
   ]
  },
  {
   "cell_type": "code",
   "execution_count": 3,
   "id": "68504b9c",
   "metadata": {},
   "outputs": [
    {
     "data": {
      "text/latex": [
       "$(-1601184.4, -5041990, 3554875.1) \\; \\mathrm{m}$"
      ],
      "text/plain": [
       "<EarthLocation (-1601184.40191992, -5041989.95569235, 3554875.07685646) m>"
      ]
     },
     "execution_count": 3,
     "metadata": {},
     "output_type": "execute_result"
    }
   ],
   "source": [
    "vla_coord = EarthLocation.of_site('vla')\n",
    "vla_coord"
   ]
  },
  {
   "cell_type": "code",
   "execution_count": 9,
   "id": "69d0ef53",
   "metadata": {},
   "outputs": [],
   "source": [
    "dkist = EarthLocation(lat=20.70818*u.deg, lon=-156.2569*u.deg, height=3084*u.m)\n",
    "utcoffset = -10 * u.hour\n",
    "midnight = Time('2018-11-14 00:00:00') - utcoffset"
   ]
  },
  {
   "cell_type": "code",
   "execution_count": 7,
   "id": "3d84fced",
   "metadata": {},
   "outputs": [],
   "source": [
    "from sunpy.coordinates import frames\n",
    "from sunpy.coordinates.sun import earth_distance"
   ]
  },
  {
   "cell_type": "code",
   "execution_count": 11,
   "id": "9b34f67b",
   "metadata": {},
   "outputs": [
    {
     "data": {
      "text/plain": [
       "<SkyCoord (Helioprojective: obstime=2018-11-14 10:00:00.000, rsun=695700.0 km, observer=<HeliographicStonyhurst Coordinate for 'Earth'>): (Tx, Ty) in arcsec\n",
       "    (0., 0.)>"
      ]
     },
     "execution_count": 11,
     "metadata": {},
     "output_type": "execute_result"
    }
   ],
   "source": [
    "sun = SkyCoord(0 * u.arcsec, 0 * u.arcsec, obstime=midnight, frame=frames.Helioprojective, observer='Earth')\n",
    "sun"
   ]
  },
  {
   "cell_type": "code",
   "execution_count": null,
   "id": "ff267b76",
   "metadata": {},
   "outputs": [],
   "source": []
  }
 ],
 "metadata": {
  "kernelspec": {
   "display_name": "Python 3 (ipykernel)",
   "language": "python",
   "name": "python3"
  },
  "language_info": {
   "codemirror_mode": {
    "name": "ipython",
    "version": 3
   },
   "file_extension": ".py",
   "mimetype": "text/x-python",
   "name": "python",
   "nbconvert_exporter": "python",
   "pygments_lexer": "ipython3",
   "version": "3.9.7"
  }
 },
 "nbformat": 4,
 "nbformat_minor": 5
}
